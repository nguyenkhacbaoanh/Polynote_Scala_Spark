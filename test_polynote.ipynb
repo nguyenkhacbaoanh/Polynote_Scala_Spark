{
  "metadata" : {
    "config" : {
      "dependencies" : {
        
      },
      "exclusions" : [
      ],
      "repositories" : [
      ],
      "sparkConfig" : {
        
      }
    }
  },
  "nbformat" : 4,
  "nbformat_minor" : 0,
  "cells" : [
    {
      "cell_type" : "markdown",
      "execution_count" : 0,
      "metadata" : {
        "language" : "text"
      },
      "language" : "text",
      "source" : [
        "# Test function scala\n",
        "\n",
        "\n",
        "def add(ns: Int*): Int = ns.fold(0)(_+_)\n",
        "\n",
        "add(2,3)\n",
        "\n",
        "\n"
      ],
      "outputs" : [
      ]
    },
    {
      "cell_type" : "code",
      "execution_count" : 1,
      "metadata" : {
        "cell.metadata.exec_info" : {
          "startTs" : 1573405314140,
          "endTs" : 1573405316101
        },
        "language" : "scala"
      },
      "language" : "scala",
      "source" : [
        "// define function's scala using parameter's array\n",
        "def add(ns: Int*): Int = ns.fold(0)(_+_)"
      ],
      "outputs" : [
      ]
    },
    {
      "cell_type" : "code",
      "execution_count" : 2,
      "metadata" : {
        "cell.metadata.exec_info" : {
          "startTs" : 1573405316144,
          "endTs" : 1573405317681
        },
        "language" : "scala"
      },
      "language" : "scala",
      "source" : [
        "// using parameters separated by \",\"\n",
        "add(2,3)"
      ],
      "outputs" : [
        {
          "execution_count" : 2,
          "data" : {
            "text/plain" : [
              "5"
            ]
          },
          "metadata" : {
            "name" : "Out",
            "type" : "Int"
          },
          "output_type" : "execute_result"
        }
      ]
    },
    {
      "cell_type" : "code",
      "execution_count" : 3,
      "metadata" : {
        "cell.metadata.exec_info" : {
          "startTs" : 1573405317742,
          "endTs" : 1573405318132
        },
        "language" : "scala"
      },
      "language" : "scala",
      "source" : [
        "// Or using Seq to declare list of parameters\n",
        "add(Seq(1,2,3)) // this call function do not work"
      ],
      "outputs" : [
        {
          "execution_count" : 3,
          "data" : {
            "application/json" : [
              {
                "pos" : {
                  "sourceId" : "Cell3",
                  "start" : 53,
                  "end" : 53,
                  "point" : 53
                },
                "msg" : "type mismatch;\n found   : Seq[Int]\n required: Int",
                "severity" : 2
              }
            ],
            "text/plain" : [
              "Error: type mismatch;\n found   : Seq[Int]\n required: Int (53)"
            ]
          },
          "metadata" : {
            "rel" : "compiler_errors"
          },
          "output_type" : "execute_result"
        }
      ]
    },
    {
      "cell_type" : "code",
      "execution_count" : 4,
      "metadata" : {
        "cell.metadata.exec_info" : {
          "startTs" : 1573405318140,
          "endTs" : 1573405318969
        },
        "language" : "scala"
      },
      "language" : "scala",
      "source" : [
        "// In scala, to call function with array type's parameter, using \": _*\"\n",
        "add(Seq(1,2,3): _*)"
      ],
      "outputs" : [
        {
          "execution_count" : 4,
          "data" : {
            "text/plain" : [
              "6"
            ]
          },
          "metadata" : {
            "name" : "Out",
            "type" : "Int"
          },
          "output_type" : "execute_result"
        }
      ]
    },
    {
      "cell_type" : "markdown",
      "execution_count" : 5,
      "metadata" : {
        "cell.metadata.exec_info" : {
          "startTs" : 1573404647083,
          "endTs" : 1573404647474
        },
        "language" : "text"
      },
      "language" : "text",
      "source" : [
        "## By-name parameter\n",
        "\n"
      ],
      "outputs" : [
      ]
    },
    {
      "cell_type" : "code",
      "execution_count" : 6,
      "metadata" : {
        "cell.metadata.exec_info" : {
          "startTs" : 1573405725059,
          "endTs" : 1573405725821
        },
        "language" : "scala"
      },
      "language" : "scala",
      "source" : [
        "def whileLoop(condition: => Boolean)(body: => Unit): Unit =\n",
        "  if (condition) {\n",
        "    body\n",
        "    whileLoop(condition)(body)\n",
        "  }"
      ],
      "outputs" : [
      ]
    },
    {
      "cell_type" : "code",
      "execution_count" : 7,
      "metadata" : {
        "cell.metadata.exec_info" : {
          "startTs" : 1573405727973,
          "endTs" : 1573405729072
        },
        "language" : "scala"
      },
      "language" : "scala",
      "source" : [
        "var i = 2"
      ],
      "outputs" : [
      ]
    },
    {
      "cell_type" : "code",
      "execution_count" : 8,
      "metadata" : {
        "cell.metadata.exec_info" : {
          "startTs" : 1573405737245,
          "endTs" : 1573405738217
        },
        "language" : "scala"
      },
      "language" : "scala",
      "source" : [
        "whileLoop(i > 0) {\n",
        "    println(i)\n",
        "    i -= 1\n",
        "}"
      ],
      "outputs" : [
        {
          "name" : "stdout",
          "text" : [
            "2\n",
            "1\n"
          ],
          "output_type" : "stream"
        }
      ]
    },
    {
      "cell_type" : "code",
      "execution_count" : 9,
      "metadata" : {
        "cell.metadata.exec_info" : {
          "startTs" : 1573406824263,
          "endTs" : 1573406824751
        },
        "language" : "scala"
      },
      "language" : "scala",
      "source" : [
        "def twice[A](a: => A) = { a; a }"
      ],
      "outputs" : [
      ]
    },
    {
      "cell_type" : "code",
      "execution_count" : 10,
      "metadata" : {
        "cell.metadata.exec_info" : {
          "startTs" : 1573406825057,
          "endTs" : 1573406825581
        },
        "language" : "scala"
      },
      "language" : "scala",
      "source" : [
        "twice[Unit](println(\"Hello\"))"
      ],
      "outputs" : [
        {
          "name" : "stdout",
          "text" : [
            "Hello\n",
            "Hello\n"
          ],
          "output_type" : "stream"
        }
      ]
    },
    {
      "cell_type" : "code",
      "execution_count" : 11,
      "metadata" : {
        "cell.metadata.exec_info" : {
          "startTs" : 1573406961575,
          "endTs" : 1573406962067
        },
        "language" : "scala"
      },
      "language" : "scala",
      "source" : [
        "def name: String = System.getProperty(\"user.name\")\n",
        "println(s\"i\\'m ${name}\")"
      ],
      "outputs" : [
        {
          "name" : "stdout",
          "text" : [
            "i'm nguyenkhacbaoanh\n"
          ],
          "output_type" : "stream"
        }
      ]
    },
    {
      "cell_type" : "code",
      "execution_count" : 12,
      "metadata" : {
        "cell.metadata.exec_info" : {
          "startTs" : 1573407216637,
          "endTs" : 1573407217010
        },
        "language" : "scala"
      },
      "language" : "scala",
      "source" : [
        "def getInt2String(i: Int): String = {\n",
        "    val number = i * 2\n",
        "    number.toString\n",
        "}\n",
        "getInt2String(2)"
      ],
      "outputs" : [
        {
          "execution_count" : 12,
          "data" : {
            "text/plain" : [
              "4"
            ]
          },
          "metadata" : {
            "name" : "Out",
            "type" : "String"
          },
          "output_type" : "execute_result"
        }
      ]
    },
    {
      "cell_type" : "code",
      "execution_count" : 13,
      "metadata" : {
        "cell.metadata.exec_info" : {
          "startTs" : 1573407544614,
          "endTs" : 1573407545314
        },
        "language" : "scala"
      },
      "language" : "scala",
      "source" : [
        "val getStringtoInteger = (s: String) => s.toInt\n",
        "getStringtoInteger(\"4\")"
      ],
      "outputs" : [
        {
          "execution_count" : 13,
          "data" : {
            "text/plain" : [
              "4"
            ]
          },
          "metadata" : {
            "name" : "Out",
            "type" : "Int"
          },
          "output_type" : "execute_result"
        }
      ]
    },
    {
      "cell_type" : "markdown",
      "execution_count" : 14,
      "metadata" : {
        "language" : "text"
      },
      "language" : "text",
      "source" : [
        "## Clase\n",
        "\n"
      ],
      "outputs" : [
      ]
    },
    {
      "cell_type" : "code",
      "execution_count" : 15,
      "metadata" : {
        "cell.metadata.exec_info" : {
          "startTs" : 1573421628327,
          "endTs" : 1573421628930
        },
        "language" : "scala"
      },
      "language" : "scala",
      "source" : [
        "class Operation(number: Int*) {\n",
        "    def add: Int = number.fold(0)(_+_)\n",
        "    def multiple: Int = number.fold(1)(_*_)\n",
        "    def minus: Int = number.foldRight(0)(_-_)\n",
        "}"
      ],
      "outputs" : [
      ]
    },
    {
      "cell_type" : "code",
      "execution_count" : 16,
      "metadata" : {
        "cell.metadata.exec_info" : {
          "startTs" : 1573421635388,
          "endTs" : 1573421635901
        },
        "language" : "scala"
      },
      "language" : "scala",
      "source" : [
        "val ops = new Operation(10, 2)\n",
        "println(ops.add)\n",
        "println(ops.multiple)\n",
        "println(ops.minus)"
      ],
      "outputs" : [
        {
          "name" : "stdout",
          "text" : [
            "12\n",
            "20\n",
            "8\n"
          ],
          "output_type" : "stream"
        }
      ]
    },
    {
      "cell_type" : "markdown",
      "execution_count" : 17,
      "metadata" : {
        "language" : "text"
      },
      "language" : "text",
      "source" : [
        "## Case Clase\n",
        "\n"
      ],
      "outputs" : [
      ]
    },
    {
      "cell_type" : "code",
      "execution_count" : 18,
      "metadata" : {
        "language" : "scala"
      },
      "language" : "scala",
      "source" : [
      ],
      "outputs" : [
      ]
    }
  ]
}