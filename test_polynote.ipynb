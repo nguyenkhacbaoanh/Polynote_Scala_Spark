{
  "metadata" : {
    "config" : {
      "dependencies" : {
        
      },
      "exclusions" : [
      ],
      "repositories" : [
      ],
      "sparkConfig" : {
        
      }
    }
  },
  "nbformat" : 4,
  "nbformat_minor" : 0,
  "cells" : [
    {
      "cell_type" : "markdown",
      "execution_count" : 0,
      "metadata" : {
        "language" : "text"
      },
      "language" : "text",
      "source" : [
        "# Test function scala\n",
        "\n",
        "\n",
        "def add(ns: Int*): Int = ns.fold(0)(_+_)\n",
        "\n",
        "add(2,3)\n",
        "\n",
        "\n"
      ],
      "outputs" : [
      ]
    },
    {
      "cell_type" : "code",
      "execution_count" : 1,
      "metadata" : {
        "cell.metadata.exec_info" : {
          "startTs" : 1573467697268,
          "endTs" : 1573467699656
        },
        "language" : "scala"
      },
      "language" : "scala",
      "source" : [
        "// define function's scala using parameter's array\n",
        "def add(ns: Int*): Int = ns.fold(0)(_+_)"
      ],
      "outputs" : [
      ]
    },
    {
      "cell_type" : "code",
      "execution_count" : 2,
      "metadata" : {
        "cell.metadata.exec_info" : {
          "startTs" : 1573467699694,
          "endTs" : 1573467700743
        },
        "language" : "scala"
      },
      "language" : "scala",
      "source" : [
        "// using parameters separated by \",\"\n",
        "add(2,3)"
      ],
      "outputs" : [
        {
          "execution_count" : 2,
          "data" : {
            "text/plain" : [
              "5"
            ]
          },
          "metadata" : {
            "name" : "Out",
            "type" : "Int"
          },
          "output_type" : "execute_result"
        }
      ]
    },
    {
      "cell_type" : "code",
      "execution_count" : 3,
      "metadata" : {
        "cell.metadata.exec_info" : {
          "startTs" : 1573467700804,
          "endTs" : 1573467701264
        },
        "language" : "scala"
      },
      "language" : "scala",
      "source" : [
        "// Or using Seq to declare list of parameters\n",
        "add(Seq(1,2,3)) // this call function do not work"
      ],
      "outputs" : [
        {
          "execution_count" : 3,
          "data" : {
            "application/json" : [
              {
                "pos" : {
                  "sourceId" : "Cell3",
                  "start" : 53,
                  "end" : 53,
                  "point" : 53
                },
                "msg" : "type mismatch;\n found   : Seq[Int]\n required: Int",
                "severity" : 2
              }
            ],
            "text/plain" : [
              "Error: type mismatch;\n found   : Seq[Int]\n required: Int (53)"
            ]
          },
          "metadata" : {
            "rel" : "compiler_errors"
          },
          "output_type" : "execute_result"
        }
      ]
    },
    {
      "cell_type" : "code",
      "execution_count" : 4,
      "metadata" : {
        "cell.metadata.exec_info" : {
          "startTs" : 1573467701272,
          "endTs" : 1573467702083
        },
        "language" : "scala"
      },
      "language" : "scala",
      "source" : [
        "// In scala, to call function with array type's parameter, using \": _*\"\n",
        "add(Seq(1,2,3): _*)"
      ],
      "outputs" : [
        {
          "execution_count" : 4,
          "data" : {
            "text/plain" : [
              "6"
            ]
          },
          "metadata" : {
            "name" : "Out",
            "type" : "Int"
          },
          "output_type" : "execute_result"
        }
      ]
    },
    {
      "cell_type" : "markdown",
      "execution_count" : 5,
      "metadata" : {
        "cell.metadata.exec_info" : {
          "startTs" : 1573404647083,
          "endTs" : 1573404647474
        },
        "language" : "text"
      },
      "language" : "text",
      "source" : [
        "## By-name parameter\n",
        "\n"
      ],
      "outputs" : [
      ]
    },
    {
      "cell_type" : "code",
      "execution_count" : 6,
      "metadata" : {
        "cell.metadata.exec_info" : {
          "startTs" : 1573467702095,
          "endTs" : 1573467702739
        },
        "language" : "scala"
      },
      "language" : "scala",
      "source" : [
        "def whileLoop(condition: => Boolean)(body: => Unit): Unit =\n",
        "  if (condition) {\n",
        "    body\n",
        "    whileLoop(condition)(body)\n",
        "  }"
      ],
      "outputs" : [
      ]
    },
    {
      "cell_type" : "code",
      "execution_count" : 7,
      "metadata" : {
        "cell.metadata.exec_info" : {
          "startTs" : 1573467702744,
          "endTs" : 1573467703554
        },
        "language" : "scala"
      },
      "language" : "scala",
      "source" : [
        "var i = 2"
      ],
      "outputs" : [
      ]
    },
    {
      "cell_type" : "code",
      "execution_count" : 8,
      "metadata" : {
        "cell.metadata.exec_info" : {
          "startTs" : 1573467703565,
          "endTs" : 1573467704438
        },
        "language" : "scala"
      },
      "language" : "scala",
      "source" : [
        "whileLoop(i > 0) {\n",
        "    println(i)\n",
        "    i -= 1\n",
        "}"
      ],
      "outputs" : [
        {
          "name" : "stdout",
          "text" : [
            "2\n",
            "1\n"
          ],
          "output_type" : "stream"
        }
      ]
    },
    {
      "cell_type" : "code",
      "execution_count" : 9,
      "metadata" : {
        "cell.metadata.exec_info" : {
          "startTs" : 1573467704442,
          "endTs" : 1573467704927
        },
        "language" : "scala"
      },
      "language" : "scala",
      "source" : [
        "def twice[A](a: => A) = { a; a }"
      ],
      "outputs" : [
      ]
    },
    {
      "cell_type" : "code",
      "execution_count" : 10,
      "metadata" : {
        "cell.metadata.exec_info" : {
          "startTs" : 1573467704933,
          "endTs" : 1573467705650
        },
        "language" : "scala"
      },
      "language" : "scala",
      "source" : [
        "twice[Unit](println(\"Hello\"))"
      ],
      "outputs" : [
        {
          "name" : "stdout",
          "text" : [
            "Hello\n",
            "Hello\n"
          ],
          "output_type" : "stream"
        }
      ]
    },
    {
      "cell_type" : "code",
      "execution_count" : 11,
      "metadata" : {
        "cell.metadata.exec_info" : {
          "startTs" : 1573467705658,
          "endTs" : 1573467706138
        },
        "language" : "scala"
      },
      "language" : "scala",
      "source" : [
        "def name: String = System.getProperty(\"user.name\")\n",
        "println(s\"i\\'m ${name}\")"
      ],
      "outputs" : [
        {
          "name" : "stdout",
          "text" : [
            "i'm nguyenkhacbaoanh\n"
          ],
          "output_type" : "stream"
        }
      ]
    },
    {
      "cell_type" : "code",
      "execution_count" : 12,
      "metadata" : {
        "cell.metadata.exec_info" : {
          "startTs" : 1573467706144,
          "endTs" : 1573467706628
        },
        "language" : "scala"
      },
      "language" : "scala",
      "source" : [
        "def getInt2String(i: Int): String = {\n",
        "    val number = i * 2\n",
        "    number.toString\n",
        "}\n",
        "getInt2String(2)"
      ],
      "outputs" : [
        {
          "execution_count" : 12,
          "data" : {
            "text/plain" : [
              "4"
            ]
          },
          "metadata" : {
            "name" : "Out",
            "type" : "String"
          },
          "output_type" : "execute_result"
        }
      ]
    },
    {
      "cell_type" : "code",
      "execution_count" : 13,
      "metadata" : {
        "cell.metadata.exec_info" : {
          "startTs" : 1573467706638,
          "endTs" : 1573467707457
        },
        "language" : "scala"
      },
      "language" : "scala",
      "source" : [
        "val getStringtoInteger = (s: String) => s.toInt\n",
        "getStringtoInteger(\"4\")"
      ],
      "outputs" : [
        {
          "execution_count" : 13,
          "data" : {
            "text/plain" : [
              "4"
            ]
          },
          "metadata" : {
            "name" : "Out",
            "type" : "Int"
          },
          "output_type" : "execute_result"
        }
      ]
    },
    {
      "cell_type" : "markdown",
      "execution_count" : 14,
      "metadata" : {
        "language" : "text"
      },
      "language" : "text",
      "source" : [
        "## Class\n",
        "\n",
        "\n"
      ],
      "outputs" : [
      ]
    },
    {
      "cell_type" : "code",
      "execution_count" : 15,
      "metadata" : {
        "cell.metadata.exec_info" : {
          "startTs" : 1573467707467,
          "endTs" : 1573467707933
        },
        "language" : "scala"
      },
      "language" : "scala",
      "source" : [
        "class Operation(number: Int*) {\n",
        "    def add: Int = number.fold(0)(_+_)\n",
        "    def multiple: Int = number.fold(1)(_*_)\n",
        "    def minus: Int = number.foldRight(0)(_-_)\n",
        "}"
      ],
      "outputs" : [
      ]
    },
    {
      "cell_type" : "code",
      "execution_count" : 16,
      "metadata" : {
        "cell.metadata.exec_info" : {
          "startTs" : 1573467707937,
          "endTs" : 1573467708505
        },
        "language" : "scala"
      },
      "language" : "scala",
      "source" : [
        "val ops = new Operation(10, 2)\n",
        "println(ops.add)\n",
        "println(ops.multiple)\n",
        "println(ops.minus)"
      ],
      "outputs" : [
        {
          "name" : "stdout",
          "text" : [
            "12\n",
            "20\n",
            "8\n"
          ],
          "output_type" : "stream"
        }
      ]
    },
    {
      "cell_type" : "markdown",
      "execution_count" : 17,
      "metadata" : {
        "language" : "text"
      },
      "language" : "text",
      "source" : [
        "## Case Class\n",
        "\n",
        "Like a class but case class is immutable and comparable\n",
        "\n",
        "\n"
      ],
      "outputs" : [
      ]
    },
    {
      "cell_type" : "code",
      "execution_count" : 18,
      "metadata" : {
        "cell.metadata.exec_info" : {
          "startTs" : 1573467708511,
          "endTs" : 1573467710478
        },
        "language" : "scala"
      },
      "language" : "scala",
      "source" : [
        "case class PersonSize(tall: Double, height: Double)\n",
        "val person1 = PersonSize(1.52, 48.5)\n",
        "val person2 = PersonSize(1.68, 50.2)\n",
        "val person3 = PersonSize(1.52, 48.5)"
      ],
      "outputs" : [
      ]
    },
    {
      "cell_type" : "code",
      "execution_count" : 19,
      "metadata" : {
        "cell.metadata.exec_info" : {
          "startTs" : 1573467710496,
          "endTs" : 1573467710910
        },
        "language" : "scala"
      },
      "language" : "scala",
      "source" : [
        "// Comparable\n",
        "if (person1 == person2) println(\"person1 = person2\") else println(\"person1 != person2\")\n",
        "if (person1 == person3) println(\"person1 = person3\") else println(\"person1 != person3\")"
      ],
      "outputs" : [
        {
          "name" : "stdout",
          "text" : [
            "person1 != person2\n",
            "person1 = person3\n"
          ],
          "output_type" : "stream"
        }
      ]
    },
    {
      "cell_type" : "markdown",
      "execution_count" : 20,
      "metadata" : {
        "language" : "text"
      },
      "language" : "text",
      "source" : [
        "## Traits\n",
        "\n"
      ],
      "outputs" : [
      ]
    },
    {
      "cell_type" : "code",
      "execution_count" : 21,
      "metadata" : {
        "cell.metadata.exec_info" : {
          "startTs" : 1573488165404,
          "endTs" : 1573488165871
        },
        "language" : "scala"
      },
      "language" : "scala",
      "source" : [
        "trait Vehicle {\n",
        "    def run: Unit = println(\" Running !!!\")\n",
        "    def stop: Unit = println(\" Stoped !!!\")\n",
        "}"
      ],
      "outputs" : [
      ]
    },
    {
      "cell_type" : "code",
      "execution_count" : 22,
      "metadata" : {
        "cell.metadata.exec_info" : {
          "startTs" : 1573488167383,
          "endTs" : 1573488167987
        },
        "language" : "scala"
      },
      "language" : "scala",
      "source" : [
        "class Moto extends Vehicle\n",
        "class Car extends Vehicle {\n",
        "    def property: Unit = println(\" This is a car !!!\")\n",
        "    override def run: Unit = println( \" Car running !!!\") // override method by override keywords\n",
        "}"
      ],
      "outputs" : [
      ]
    },
    {
      "cell_type" : "code",
      "execution_count" : 23,
      "metadata" : {
        "cell.metadata.exec_info" : {
          "startTs" : 1573488169643,
          "endTs" : 1573488171151
        },
        "language" : "scala"
      },
      "language" : "scala",
      "source" : [
        "val moto = new Moto\n",
        "moto.run\n",
        "moto.stop\n",
        "val car = new Car\n",
        "car.run\n",
        "car.stop\n",
        "car.property"
      ],
      "outputs" : [
        {
          "name" : "stdout",
          "text" : [
            " Running !!!",
            "\n",
            " Stoped !!!",
            "\n",
            " Car running !!!",
            "\n",
            " Stoped !!!",
            "\n",
            " This is a car !!!",
            "\n"
          ],
          "output_type" : "stream"
        }
      ]
    },
    {
      "cell_type" : "markdown",
      "execution_count" : 24,
      "metadata" : {
        "cell.metadata.exec_info" : {
          "startTs" : 1573467712450,
          "endTs" : 1573467712773
        },
        "language" : "text"
      },
      "language" : "text",
      "source" : [
        "## Class - Private members and get/set syntax\n",
        "\n"
      ],
      "outputs" : [
      ]
    },
    {
      "cell_type" : "code",
      "execution_count" : 25,
      "metadata" : {
        "cell.metadata.exec_info" : {
          "startTs" : 1573489664264,
          "endTs" : 1573489664578
        },
        "language" : "scala"
      },
      "language" : "scala",
      "source" : [
        "class Plane extends Vehicle {\n",
        "    private var _branch: String = \"\"\n",
        "    private var _model: String = \"\"\n",
        "    def branch = _branch\n",
        "    def branch_= (name: String): Unit = {\n",
        "        _branch = name\n",
        "    }\n",
        "    def model = _model\n",
        "    def model_= (name: String): Unit = {\n",
        "        _model = name\n",
        "    }\n",
        "    def getBranch: Unit = {\n",
        "        println(branch)\n",
        "    }\n",
        "    def getModel: Unit = {\n",
        "        println(model)\n",
        "    }\n",
        "}"
      ],
      "outputs" : [
      ]
    },
    {
      "cell_type" : "code",
      "execution_count" : 26,
      "metadata" : {
        "cell.metadata.exec_info" : {
          "startTs" : 1573489707916,
          "endTs" : 1573489708244
        },
        "language" : "scala"
      },
      "language" : "scala",
      "source" : [
        "val plane = new Plane\n",
        "plane.run\n",
        "plane.stop\n",
        "plane.model = \"Su47\"\n",
        "plane.branch = \"Su\"\n",
        "plane.getBranch\n",
        "println(plane.model)"
      ],
      "outputs" : [
        {
          "name" : "stdout",
          "text" : [
            " Running !!!",
            "\n",
            " Stoped !!!",
            "\n",
            "Su",
            "\n",
            "Su47",
            "\n"
          ],
          "output_type" : "stream"
        }
      ]
    },
    {
      "cell_type" : "code",
      "execution_count" : 27,
      "metadata" : {
        "cell.metadata.exec_info" : {
          "startTs" : 1573489476714,
          "endTs" : 1573489476998
        },
        "language" : "scala"
      },
      "language" : "scala",
      "source" : [
        "class Point {\n",
        "    private var _x = 0\n",
        "    private var _y = 0\n",
        "    val bound: Int = 50\n",
        "    def x = _x\n",
        "    def y = _y\n",
        "    def x_= (newValue: Int): Unit = {\n",
        "        if (newValue < 50) _x = newValue else passBound\n",
        "    }\n",
        "    def y_= (newValue: Int): Unit = {\n",
        "        if (newValue < 50) _y = newValue else passBound\n",
        "    }\n",
        "    def passBound: Unit = {\n",
        "        println(\"Warning, set value less than 50 !!!\")\n",
        "    }\n",
        "}"
      ],
      "outputs" : [
      ]
    },
    {
      "cell_type" : "code",
      "execution_count" : 28,
      "metadata" : {
        "cell.metadata.exec_info" : {
          "startTs" : 1573489523872,
          "endTs" : 1573489524436
        },
        "language" : "scala"
      },
      "language" : "scala",
      "source" : [
        "val p = new Point\n",
        "p.x = 40\n",
        "p.y = 51"
      ],
      "outputs" : [
        {
          "name" : "stdout",
          "text" : [
            "Warning, set value less than 50 !!!",
            "\n"
          ],
          "output_type" : "stream"
        }
      ]
    },
    {
      "cell_type" : "code",
      "execution_count" : 29,
      "metadata" : {
        "cell.metadata.exec_info" : {
          "startTs" : 1573489583546,
          "endTs" : 1573489583901
        },
        "language" : "scala"
      },
      "language" : "scala",
      "source" : [
        "println(p.x)"
      ],
      "outputs" : [
        {
          "name" : "stdout",
          "text" : [
            "40",
            "\n"
          ],
          "output_type" : "stream"
        }
      ]
    },
    {
      "cell_type" : "markdown",
      "execution_count" : 30,
      "metadata" : {
        "language" : "text"
      },
      "language" : "text",
      "source" : [
        "## Iterator\n",
        "\n"
      ],
      "outputs" : [
      ]
    },
    {
      "cell_type" : "code",
      "execution_count" : 31,
      "metadata" : {
        "cell.metadata.exec_info" : {
          "startTs" : 1573490474129,
          "endTs" : 1573490474862
        },
        "language" : "scala"
      },
      "language" : "scala",
      "source" : [
        "import scala.collection.mutable.ArrayBuffer\n",
        "val list = ArrayBuffer.empty[Int]\n",
        "for (i <- 1 to 10) list.append(i)"
      ],
      "outputs" : [
      ]
    },
    {
      "cell_type" : "code",
      "execution_count" : 32,
      "metadata" : {
        "cell.metadata.exec_info" : {
          "startTs" : 1573490499474,
          "endTs" : 1573490499838
        },
        "language" : "scala"
      },
      "language" : "scala",
      "source" : [
        "list.foreach(println)"
      ],
      "outputs" : [
        {
          "name" : "stdout",
          "text" : [
            "1",
            "\n",
            "2",
            "\n",
            "3",
            "\n",
            "4",
            "\n",
            "5",
            "\n",
            "6",
            "\n",
            "7",
            "\n",
            "8",
            "\n",
            "9",
            "\n",
            "10",
            "\n"
          ],
          "output_type" : "stream"
        }
      ]
    },
    {
      "cell_type" : "code",
      "execution_count" : 33,
      "metadata" : {
        "cell.metadata.exec_info" : {
          "startTs" : 1573490581308,
          "endTs" : 1573490581729
        },
        "language" : "scala"
      },
      "language" : "scala",
      "source" : [
        "val list_grouded_3 = list grouped 3\n",
        "list_grouded_3 foreach println"
      ],
      "outputs" : [
        {
          "name" : "stdout",
          "text" : [
            "ArrayBuffer(1, 2, 3)",
            "\n",
            "ArrayBuffer(4, 5, 6)",
            "\n",
            "ArrayBuffer(7, 8, 9)",
            "\n",
            "ArrayBuffer(10)",
            "\n"
          ],
          "output_type" : "stream"
        }
      ]
    },
    {
      "cell_type" : "code",
      "execution_count" : 34,
      "metadata" : {
        "cell.metadata.exec_info" : {
          "startTs" : 1573490640668,
          "endTs" : 1573490641058
        },
        "language" : "scala"
      },
      "language" : "scala",
      "source" : [
        "val list_sliding_3 = list sliding 3\n",
        "list_sliding_3 foreach println"
      ],
      "outputs" : [
        {
          "name" : "stdout",
          "text" : [
            "ArrayBuffer(1, 2, 3)",
            "\n",
            "ArrayBuffer(2, 3, 4)",
            "\n",
            "ArrayBuffer(3, 4, 5)",
            "\n",
            "ArrayBuffer(4, 5, 6)",
            "\n",
            "ArrayBuffer(5, 6, 7)",
            "\n",
            "ArrayBuffer(6, 7, 8)",
            "\n",
            "ArrayBuffer(7, 8, 9)",
            "\n",
            "ArrayBuffer(8, 9, 10)",
            "\n"
          ],
          "output_type" : "stream"
        }
      ]
    },
    {
      "cell_type" : "code",
      "execution_count" : 35,
      "metadata" : {
        "cell.metadata.exec_info" : {
          "startTs" : 1573491980179,
          "endTs" : 1573491980581
        },
        "language" : "scala"
      },
      "language" : "scala",
      "source" : [
        "// String access by \"charAt\"\n",
        "val s = \"Hello World\"\n",
        "for (i <- 0 until s.length) {\n",
        "    println( s charAt i)\n",
        "}"
      ],
      "outputs" : [
        {
          "name" : "stdout",
          "text" : [
            "H",
            "\n",
            "e",
            "\n",
            "l",
            "\n",
            "l",
            "\n",
            "o",
            "\n",
            " ",
            "\n",
            "W",
            "\n",
            "o",
            "\n",
            "r",
            "\n",
            "l",
            "\n",
            "d",
            "\n"
          ],
          "output_type" : "stream"
        }
      ]
    },
    {
      "cell_type" : "code",
      "execution_count" : 36,
      "metadata" : {
        "language" : "scala"
      },
      "language" : "scala",
      "source" : [
      ],
      "outputs" : [
      ]
    }
  ]
}