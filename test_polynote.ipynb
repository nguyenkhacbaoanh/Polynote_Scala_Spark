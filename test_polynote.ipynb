{
  "metadata" : {
    "config" : {
      "dependencies" : {
        
      },
      "exclusions" : [
      ],
      "repositories" : [
      ],
      "sparkConfig" : {
        
      }
    }
  },
  "nbformat" : 4,
  "nbformat_minor" : 0,
  "cells" : [
    {
      "cell_type" : "markdown",
      "execution_count" : 0,
      "metadata" : {
        "language" : "text"
      },
      "language" : "text",
      "source" : [
        "# Test function scala\n",
        "\n",
        "\n",
        "def add(ns: Int*): Int = ns.fold(0)(_+_)\n",
        "\n",
        "add(2,3)\n",
        "\n",
        "\n"
      ],
      "outputs" : [
      ]
    },
    {
      "cell_type" : "code",
      "execution_count" : 1,
      "metadata" : {
        "cell.metadata.exec_info" : {
          "startTs" : 1573375897784,
          "endTs" : 1573375898439
        },
        "language" : "scala"
      },
      "language" : "scala",
      "source" : [
        "// define function's scala using parameter's array\n",
        "def add(ns: Int*): Int = ns.fold(0)(_+_)"
      ],
      "outputs" : [
      ]
    },
    {
      "cell_type" : "code",
      "execution_count" : 2,
      "metadata" : {
        "cell.metadata.exec_info" : {
          "startTs" : 1573375932366,
          "endTs" : 1573375932927
        },
        "language" : "scala"
      },
      "language" : "scala",
      "source" : [
        "// using parameters separated by \",\"\n",
        "add(2,3)"
      ],
      "outputs" : [
        {
          "execution_count" : 2,
          "data" : {
            "text/plain" : [
              "5"
            ]
          },
          "metadata" : {
            "name" : "Out",
            "type" : "Int"
          },
          "output_type" : "execute_result"
        }
      ]
    },
    {
      "cell_type" : "code",
      "execution_count" : 3,
      "metadata" : {
        "cell.metadata.exec_info" : {
          "startTs" : 1573375980076,
          "endTs" : 1573375980203
        },
        "language" : "scala"
      },
      "language" : "scala",
      "source" : [
        "// Or using Seq to declare list of parameters\n",
        "add(Seq(1,2,3)) // this call function do not work"
      ],
      "outputs" : [
        {
          "execution_count" : 3,
          "data" : {
            "application/json" : [
              {
                "pos" : {
                  "sourceId" : "Cell3",
                  "start" : 53,
                  "end" : 53,
                  "point" : 53
                },
                "msg" : "type mismatch;\n found   : Seq[Int]\n required: Int",
                "severity" : 2
              }
            ],
            "text/plain" : [
              "Error: type mismatch;\n found   : Seq[Int]\n required: Int (53)"
            ]
          },
          "metadata" : {
            "rel" : "compiler_errors"
          },
          "output_type" : "execute_result"
        }
      ]
    },
    {
      "cell_type" : "code",
      "execution_count" : 4,
      "metadata" : {
        "cell.metadata.exec_info" : {
          "startTs" : 1573376026202,
          "endTs" : 1573376026669
        },
        "language" : "scala"
      },
      "language" : "scala",
      "source" : [
        "// In scala, to call function with array type's parameter, using \": _*\"\n",
        "add(Seq(1,2,3): _*)"
      ],
      "outputs" : [
        {
          "execution_count" : 4,
          "data" : {
            "text/plain" : [
              "6"
            ]
          },
          "metadata" : {
            "name" : "Out",
            "type" : "Int"
          },
          "output_type" : "execute_result"
        }
      ]
    },
    {
      "cell_type" : "code",
      "execution_count" : 5,
      "metadata" : {
        "language" : "scala"
      },
      "language" : "scala",
      "source" : [
      ],
      "outputs" : [
      ]
    }
  ]
}